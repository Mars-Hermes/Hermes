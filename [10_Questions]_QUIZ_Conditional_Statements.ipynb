{
 "cells": [
  {
   "cell_type": "markdown",
   "id": "upset-links",
   "metadata": {},
   "source": [
    "## [10 Questions] QUIZ - Conditional Statements"
   ]
  },
  {
   "cell_type": "markdown",
   "id": "worldwide-loading",
   "metadata": {},
   "source": [
    "**Q 1:**\n",
    "\n",
    "Ask the user to enter a number.\n",
    "\n",
    "Find out if this number is Odd or Even."
   ]
  },
  {
   "cell_type": "code",
   "execution_count": 48,
   "id": "convenient-discipline",
   "metadata": {},
   "outputs": [
    {
     "name": "stdout",
     "output_type": "stream",
     "text": [
      "please enter a number:8\n",
      "8 is Even\n"
     ]
    }
   ],
   "source": [
    "# S 1:\n",
    "num = int(input(\"please enter a number:\"))\n",
    "\n",
    "if num %2 == 0:\n",
    "    print(num, \"is Even\")\n",
    "    \n",
    "else:\n",
    "    print(num, \"is ODD\")"
   ]
  },
  {
   "cell_type": "markdown",
   "id": "composed-colony",
   "metadata": {},
   "source": [
    "**Q 2:**\n",
    "\n",
    "Ask for a letter from the user.\n",
    "\n",
    "Find out if it is a vowel or consonant."
   ]
  },
  {
   "cell_type": "code",
   "execution_count": 11,
   "id": "deluxe-protection",
   "metadata": {},
   "outputs": [
    {
     "name": "stdout",
     "output_type": "stream",
     "text": [
      "please enter a letter:E\n",
      "VOWEL: e\n"
     ]
    }
   ],
   "source": [
    "# S 2:\n",
    "letter = input(\"please enter a letter:\").lower()\n",
    "if letter == 'a' or letter == 'e' or letter == 'i' or letter == 'o' or letter == 'u':\n",
    "    print(\"VOWEL:\", letter)\n",
    "\n",
    "else:\n",
    "    print(\"CONSONANT\", letter)"
   ]
  },
  {
   "cell_type": "markdown",
   "id": "indoor-hughes",
   "metadata": {},
   "source": [
    "**Q 3:**\n",
    "\n",
    "Define a function named **which_shape**.\n",
    "\n",
    "The function will ask a number from the user.\n",
    "\n",
    "It will decide the name of the shape according to that number, and return that name.\n",
    "\n",
    "Sides & Shapes:\n",
    "* 3 - Triangle\n",
    "* 4 - Rectangle\n",
    "* 5 - Pentagon\n",
    "* 6 - Hexagon\n",
    "* 7 and more - Polygon"
   ]
  },
  {
   "cell_type": "code",
   "execution_count": 18,
   "id": "adequate-transition",
   "metadata": {},
   "outputs": [],
   "source": [
    "# S 3:\n",
    "\n",
    "def which_shape():\n",
    "    number_of_sides = int(input(\"Please enter the number of sides: \"))\n",
    "    \n",
    "    shape_name = \"\"\n",
    "    \n",
    "    if number_of_sides == 3:\n",
    "        shape_name = 'Triangle'\n",
    "    elif number_of_sides == 4:\n",
    "        shape_name = 'Rectangle'\n",
    "    elif number_of_sides == 5:\n",
    "        shape_name = 'Pentagon'\n",
    "    elif number_of_sides == 6:\n",
    "        shape_name = 'Hexagon'\n",
    "    else:\n",
    "        shape_name = 'Polygon'\n",
    "    \n",
    "    # return the shape name\n",
    "    return shape_name\n",
    "    \n",
    "    "
   ]
  },
  {
   "cell_type": "code",
   "execution_count": 19,
   "id": "054544e7",
   "metadata": {},
   "outputs": [
    {
     "name": "stdout",
     "output_type": "stream",
     "text": [
      "Please enter the number of sides: 4\n",
      "Rectangle\n"
     ]
    }
   ],
   "source": [
    "shape = which_shape()\n",
    "print(shape)"
   ]
  },
  {
   "cell_type": "markdown",
   "id": "canadian-dialogue",
   "metadata": {},
   "source": [
    "**Q 4:**\n",
    "\n",
    "Define a function to print the number of days in the given month.\n",
    "\n",
    "Function name will be **number_of_days_in_month**.\n",
    "\n",
    "It will ask month name from the user.\n",
    "\n",
    "Number of Days in Gregorian Calendar:\n",
    "* January - 31\n",
    "* February - 28 or 29\n",
    "* March - 31\n",
    "* April - 30\n",
    "* May - 31\n",
    "* June - 30\n",
    "* July - 31\n",
    "* August - 31\n",
    "* September - 30\n",
    "* October - 31\n",
    "* November - 30\n",
    "* December - 31\n",
    "\n",
    "<pre>\n",
    "Expected Output:\n",
    "Please enter the month name:  October\n",
    "'There are 31 days in October'\n",
    "</pre>"
   ]
  },
  {
   "cell_type": "code",
   "execution_count": 30,
   "id": "national-fashion",
   "metadata": {},
   "outputs": [],
   "source": [
    "# S 4:\n",
    "def number_of_days_in_month():\n",
    "    \n",
    "    # variable for number of days\n",
    "    days = 31\n",
    "    \n",
    "    # ask for the month\n",
    "    month = input(\"Please enter the month name: \")\n",
    "    \n",
    "    # Now check months with number of days 28-29, 30 and 31\n",
    "    \n",
    "    if month == 'April' or month == 'June' or \\\n",
    "       month == 'September' or month == 'November':\n",
    "        days = 30\n",
    "    elif month == 'February':\n",
    "        days = '28 or 29'\n",
    "        \n",
    "    return 'There are ' + str(days) + ' days in ' + str(month)"
   ]
  },
  {
   "cell_type": "code",
   "execution_count": 31,
   "id": "suited-password",
   "metadata": {},
   "outputs": [
    {
     "name": "stdout",
     "output_type": "stream",
     "text": [
      "Please enter the month name: February\n"
     ]
    },
    {
     "data": {
      "text/plain": [
       "'There are 28 or 29 days in February'"
      ]
     },
     "execution_count": 31,
     "metadata": {},
     "output_type": "execute_result"
    }
   ],
   "source": [
    "number_of_days_in_month()"
   ]
  },
  {
   "cell_type": "code",
   "execution_count": 49,
   "id": "c62a3624",
   "metadata": {},
   "outputs": [
    {
     "name": "stdout",
     "output_type": "stream",
     "text": [
      "Please enter the month name: March\n"
     ]
    },
    {
     "data": {
      "text/plain": [
       "'There are 31 days in March'"
      ]
     },
     "execution_count": 49,
     "metadata": {},
     "output_type": "execute_result"
    }
   ],
   "source": [
    "number_of_days_in_month()"
   ]
  },
  {
   "cell_type": "markdown",
   "id": "rolled-stanford",
   "metadata": {},
   "source": [
    "**Q 5:**\n",
    "\n",
    "Define a function to ask the length of sides of a triangle.\n",
    "\n",
    "Function name is **name_the_triangle**.\n",
    "\n",
    "The function will decide the type of triangle, according to the sides length.\n",
    "\n",
    "And will return its name.\n",
    "\n",
    "Types of Triangles:\n",
    "* Equilateral: three equal sides\n",
    "* Isosceles: two equal sides\n",
    "* Scalene: no equal sides"
   ]
  },
  {
   "cell_type": "code",
   "execution_count": 22,
   "id": "smoking-perfume",
   "metadata": {},
   "outputs": [],
   "source": [
    "# S 5:\n",
    "def name_the_triangle():\n",
    "    \n",
    "    # variable to keep name\n",
    "    name = \"\"\n",
    "    \n",
    "    # ask for lengths\n",
    "    side_1 = float(input('Length for the first side: '))\n",
    "    side_2 = float(input('Length for the second side: '))\n",
    "    side_3 = float(input('Length for the third side: '))\n",
    "    \n",
    "    # conditions\n",
    "    if side_1 == side_2 and side_1 == side_3:\n",
    "        name = 'Equilateral'\n",
    "    elif side_1 == side_2 or side_1 == side_3 or side_2 == side_3:\n",
    "        name = 'Isosceles'\n",
    "    else:\n",
    "        name = 'Scalene'\n",
    "    \n",
    "    return name"
   ]
  },
  {
   "cell_type": "code",
   "execution_count": 23,
   "id": "numerical-international",
   "metadata": {},
   "outputs": [
    {
     "name": "stdout",
     "output_type": "stream",
     "text": [
      "Length for the first side: 10\n",
      "Length for the second side: 10\n",
      "Length for the third side: 10\n",
      "Equilateral\n"
     ]
    }
   ],
   "source": [
    "print(name_the_triangle())"
   ]
  },
  {
   "cell_type": "code",
   "execution_count": 50,
   "id": "f6e90757",
   "metadata": {},
   "outputs": [
    {
     "name": "stdout",
     "output_type": "stream",
     "text": [
      "Length for the first side: 45\n",
      "Length for the second side: 60\n",
      "Length for the third side: 45\n",
      "Isosceles\n"
     ]
    }
   ],
   "source": [
    "print(name_the_triangle())"
   ]
  },
  {
   "cell_type": "code",
   "execution_count": 51,
   "id": "2a758fc6",
   "metadata": {},
   "outputs": [
    {
     "name": "stdout",
     "output_type": "stream",
     "text": [
      "Length for the first side: 30\n",
      "Length for the second side: 20\n",
      "Length for the third side: 50\n",
      "Scalene\n"
     ]
    }
   ],
   "source": [
    "print(name_the_triangle())"
   ]
  },
  {
   "cell_type": "markdown",
   "id": "architectural-young",
   "metadata": {},
   "source": [
    "**Q 6:**\n",
    "\n",
    "Define a function that decides what to wear, according to the month and number of the day.\n",
    "\n",
    "Function name will be **what_to_wear** and it will ask for the name of the month and day number.\n",
    "\n",
    "According to month and day number, it will check for the season and with season, it will return what to wear.\n",
    "\n",
    "<pre>\n",
    "Seasons and Garments \n",
    "Spring: Shirt\n",
    "Summer: T-shirt\n",
    "Autumn: Sweater\n",
    "Winter: Coat\n",
    "\n",
    "The Solstices:\n",
    "* June (21)\n",
    "* December (21)\n",
    "\n",
    "The Equinoxes:\n",
    "* March (21)\n",
    "* September (23)\n",
    "\n",
    "Expected Output:\n",
    "Enter month name:  March\n",
    "Enter day number:  24\n",
    "In March, day 24 we wear Shirt\n",
    "</pre>"
   ]
  },
  {
   "cell_type": "code",
   "execution_count": 3,
   "id": "bridal-longer",
   "metadata": {},
   "outputs": [],
   "source": [
    "# S 6:\n",
    "def what_to_wear():\n",
    "    month = input(\"Enter month name: \")\n",
    "    day = int(input(\"Enter day number: \"))\n",
    "\n",
    "    garment = \"\"\n",
    "    \n",
    "    if month == 'January' or month == 'February':\n",
    "        garment = 'Coat'\n",
    "    elif month == 'March':\n",
    "        if day < 21:\n",
    "            garment = 'Coat'\n",
    "        else:\n",
    "            garment = 'Shirt'\n",
    "    elif month == 'April' or month == 'May':\n",
    "        garment = 'Shirt'\n",
    "    elif month == 'June':\n",
    "        if day < 21:\n",
    "            garment = 'Shirt'\n",
    "        else:\n",
    "            garment = 'T-shirt'\n",
    "    elif month == 'July' or month == 'August':\n",
    "        garment = 'T-shirt'\n",
    "    elif month == 'September':\n",
    "        if day < 23:\n",
    "            garment = 'T-shirt'\n",
    "        else:\n",
    "            garment = 'Sweater'\n",
    "    elif month == 'October' or month == 'November':\n",
    "        garment = 'Sweater'\n",
    "    elif month == 'December':\n",
    "        if day < 21:\n",
    "            garment = 'Sweater'\n",
    "        else:\n",
    "            garment = 'Coat'\n",
    "            \n",
    "    print('In {0}, day {1} we wear {2}'.format(month, day, garment))"
   ]
  },
  {
   "cell_type": "code",
   "execution_count": 43,
   "id": "instrumental-machinery",
   "metadata": {},
   "outputs": [
    {
     "name": "stdout",
     "output_type": "stream",
     "text": [
      "Enter month name: March\n",
      "Enter day number: 24\n",
      "In March, day 24 we wear Shirt\n"
     ]
    }
   ],
   "source": [
    "what_to_wear()"
   ]
  },
  {
   "cell_type": "code",
   "execution_count": 4,
   "id": "japanese-butter",
   "metadata": {},
   "outputs": [
    {
     "name": "stdout",
     "output_type": "stream",
     "text": [
      "Enter month name: July\n",
      "Enter day number: 12\n",
      "In July, day 12 we wear T-shirt\n"
     ]
    }
   ],
   "source": [
    "what_to_wear()"
   ]
  },
  {
   "cell_type": "markdown",
   "id": "4d34f263",
   "metadata": {},
   "source": [
    "**Q 7:**\n",
    "\n",
    "Define a function named **which_day**.\n",
    "\n",
    "It will ask for any of the capital letters: F, M, S, T, W\n",
    "\n",
    "These are the first letters of the day names in a week.\n",
    "\n",
    "The function will decide which day by the first letter.\n",
    "\n",
    "It may ask additional questins if needed?\n",
    "\n",
    "Days:\n",
    "* Monday, Tuesday, Wednesday, Thursday, Friday, Saturday, Sunday\n",
    "\n",
    "Additional questions by letter:\n",
    "* S: \n",
    "    * \"first day of weekend\" or \n",
    "    * \"last day of weekend\"\n",
    "* T: \n",
    "    * \"at the beginning of the week\" or \n",
    "    * \"at the middle of the week\"\n",
    "    \n",
    "<pre>\n",
    "Expected Output:\n",
    "Please enter any of the capital letters: F, M, S, T, W :  T\n",
    "Is it at the beginning of the week? Yes - No? No\n",
    "Your day: THURSDAY\n",
    "</pre>"
   ]
  },
  {
   "cell_type": "code",
   "execution_count": 1,
   "id": "cardiovascular-yorkshire",
   "metadata": {},
   "outputs": [],
   "source": [
    "# S 7:\n",
    "\n",
    "def which_day():\n",
    "\n",
    "\n",
    "    # ask for a letter\n",
    "\n",
    "    letter = input(\"Enter one of: F, M, S, T, W  : \")\n",
    "\n",
    "\n",
    "    # check if the letter is in list\n",
    "\n",
    "    if not (letter == 'F' or letter == 'M' or letter == 'S' or letter == 'T' or letter == 'W'):\n",
    "\n",
    "        print(\"Wrong letter.\")\n",
    "\n",
    "        return\n",
    "\n",
    "\n",
    "    # if the letter is correct\n",
    "\n",
    "\n",
    "    else:\n",
    "\n",
    "\n",
    "        # lettter controls\n",
    "\n",
    "        # F\n",
    "\n",
    "        if letter == 'F':\n",
    "\n",
    "            day = 'FRIDAY'\n",
    "\n",
    "\n",
    "        # M\n",
    "\n",
    "        elif letter == 'M':\n",
    "\n",
    "            day = 'MONDAY'\n",
    "\n",
    "\n",
    "        # S\n",
    "\n",
    "        elif letter == 'S':\n",
    "\n",
    "            # ask additional question\n",
    "\n",
    "            first_day_of_weekend = input('Is it the first day of the weekend? Yes - No: ')\n",
    "\n",
    "\n",
    "            if first_day_of_weekend == 'Yes':\n",
    "\n",
    "                day = 'SATURDAY'\n",
    "\n",
    "            else:\n",
    "\n",
    "                day = 'SUNDAY'\n",
    "\n",
    "\n",
    "\n",
    "        # T\n",
    "\n",
    "        elif letter == 'T':\n",
    "\n",
    "            # ask additional question\n",
    "\n",
    "            beginning_of_week = input('Is it at the beginning of the week? Yes - No : ')\n",
    "\n",
    "\n",
    "            if beginning_of_week == 'Yes':\n",
    "\n",
    "                day = 'TUESDAY'\n",
    "\n",
    "            else:\n",
    "\n",
    "                day = 'THURSDAY'\n",
    "\n",
    "\n",
    "        # W\n",
    "\n",
    "        elif letter == 'W':\n",
    "\n",
    "            day = 'WEDNESDAY'\n",
    "\n",
    "\n",
    "\n",
    "        print('Your day:', day)\n"
   ]
  },
  {
   "cell_type": "code",
   "execution_count": 3,
   "id": "binding-profit",
   "metadata": {},
   "outputs": [
    {
     "name": "stdout",
     "output_type": "stream",
     "text": [
      "Enter one of: F, M, S, T, W  : F\n",
      "Your day: FRIDAY\n"
     ]
    }
   ],
   "source": [
    "which_day()"
   ]
  },
  {
   "cell_type": "code",
   "execution_count": 4,
   "id": "metropolitan-heritage",
   "metadata": {},
   "outputs": [
    {
     "name": "stdout",
     "output_type": "stream",
     "text": [
      "Enter one of: F, M, S, T, W  : S\n",
      "Is it the first day of the weekend? Yes - No: NO\n",
      "Your day: SUNDAY\n"
     ]
    }
   ],
   "source": [
    "which_day()"
   ]
  },
  {
   "cell_type": "code",
   "execution_count": 5,
   "id": "removable-backing",
   "metadata": {},
   "outputs": [
    {
     "name": "stdout",
     "output_type": "stream",
     "text": [
      "Enter one of: F, M, S, T, W  : T\n",
      "Is it at the beginning of the week? Yes - No : NO\n",
      "Your day: THURSDAY\n"
     ]
    }
   ],
   "source": [
    "which_day()"
   ]
  },
  {
   "cell_type": "markdown",
   "id": "spiritual-blend",
   "metadata": {},
   "source": [
    "**Q 8:**\n",
    "\n",
    "Define a function named **odds_evens**.\n",
    "\n",
    "It will ask for a pozitif number from the user.\n",
    "\n",
    "Check if the input is an integer or not.\n",
    "\n",
    "Also check if the number is a positive number.\n",
    "\n",
    "Decide if the number is ODD or EVEN and print:\n",
    "* If the number is odd -> ODD\n",
    "* If the number is event and between 1 and 10 (both included) -> EVEN of TEN\n",
    "* If the number is even and between 11 and 20 (both included) -> EVEN of TWENTY\n",
    "* If the number is even and greater than 20 -> EVEN\n",
    "\n",
    "<pre>\n",
    "Expected Output:\n",
    "Plase enter a number:  18\n",
    "EVEN of TWENTY\n",
    "</pre>"
   ]
  },
  {
   "cell_type": "code",
   "execution_count": 26,
   "id": "acting-wales",
   "metadata": {},
   "outputs": [],
   "source": [
    "# S 8:\n",
    "def odds_evens():\n",
    "    \n",
    "    n = input(\"Please enter a number: \")\n",
    "    \n",
    "    # if int\n",
    "    if not n.isdigit():\n",
    "        print('Not a number')\n",
    "        return\n",
    "    \n",
    "    # cast to int\n",
    "    n = int(n)\n",
    "    \n",
    "    # Positivity\n",
    "    if n <= 0:\n",
    "        print('Not Positive.')\n",
    "        return\n",
    "    \n",
    "    # It is positive\n",
    "    else:\n",
    "        \n",
    "        # odd?\n",
    "        if n % 2 == 1:\n",
    "            print('ODD')\n",
    "            \n",
    "        else:\n",
    "            # even\n",
    "            if 1 <= n <= 10:\n",
    "                print('EVEN OF TEN')\n",
    "            elif 11 <= n <= 20:\n",
    "                print('EVEN OF TVENTY')\n",
    "            elif n > 20:\n",
    "                print(\"EVEN\")\n",
    "            "
   ]
  },
  {
   "cell_type": "code",
   "execution_count": 27,
   "id": "every-spokesman",
   "metadata": {},
   "outputs": [
    {
     "name": "stdout",
     "output_type": "stream",
     "text": [
      "Please enter a number: 84\n",
      "EVEN\n"
     ]
    }
   ],
   "source": [
    "odds_evens()"
   ]
  },
  {
   "cell_type": "markdown",
   "id": "solar-interpretation",
   "metadata": {},
   "source": [
    "**Q 9:**\n",
    "\n",
    "**Sum of Odds and Evens:** \n",
    "* If the sum of two numbers is Odd then only one of these is Odd.\n",
    "* It the sum of two numbers is Even then both are Odd or both are Even.\n",
    "\n",
    "Define a function named **sum_of_odds_and_evens**.\n",
    "\n",
    "It will ask for two integers from the user.\n",
    "\n",
    "Then it will decide if the sum is Odd or Even.\n",
    "\n",
    "**Important Note:** Do not calculate the actual summation as x + y.\n",
    "\n",
    "<pre>\n",
    "Expected Output:\n",
    "First Number:  8\n",
    "Second Number:  3\n",
    "Sum is ODD\n",
    "</pre>"
   ]
  },
  {
   "cell_type": "code",
   "execution_count": 40,
   "id": "several-aggregate",
   "metadata": {},
   "outputs": [],
   "source": [
    "# S 9:\n",
    "\n",
    "def sum_of_odds_and_evens():\n",
    "     n1 = int(input('First Number:'))\n",
    "     n2 = int(input('Second Number:'))\n",
    "\n",
    "     if (n1 % 2 == 1 and n2 % 2 == 0) or (n1 % 2 == 0 and n2 % 2 == 1):\n",
    "            print('Sum is ODD')\n",
    "            \n",
    "     else:\n",
    "        print('Sum is EVEN')"
   ]
  },
  {
   "cell_type": "code",
   "execution_count": 41,
   "id": "executive-chester",
   "metadata": {},
   "outputs": [
    {
     "name": "stdout",
     "output_type": "stream",
     "text": [
      "First Number:8\n",
      "Second Number:3\n",
      "Sum is ODD\n"
     ]
    }
   ],
   "source": [
    "sum_of_odds_and_evens()"
   ]
  },
  {
   "cell_type": "code",
   "execution_count": 24,
   "id": "detailed-generic",
   "metadata": {},
   "outputs": [
    {
     "name": "stdin",
     "output_type": "stream",
     "text": [
      "First Number:  5\n",
      "Second Number:  7\n"
     ]
    },
    {
     "name": "stdout",
     "output_type": "stream",
     "text": [
      "Sum is EVEN\n"
     ]
    }
   ],
   "source": [
    "sum_of_odds_and_evens()"
   ]
  },
  {
   "cell_type": "code",
   "execution_count": 25,
   "id": "binary-banana",
   "metadata": {},
   "outputs": [
    {
     "name": "stdin",
     "output_type": "stream",
     "text": [
      "First Number:  8\n",
      "Second Number:  10\n"
     ]
    },
    {
     "name": "stdout",
     "output_type": "stream",
     "text": [
      "Sum is EVEN\n"
     ]
    }
   ],
   "source": [
    "sum_of_odds_and_evens()"
   ]
  },
  {
   "cell_type": "markdown",
   "id": "thermal-interpretation",
   "metadata": {},
   "source": [
    "---"
   ]
  },
  {
   "cell_type": "markdown",
   "id": "obvious-phase",
   "metadata": {},
   "source": [
    "**Q 10:**\n",
    "\n",
    "Define a function named **count_down**.\n",
    "\n",
    "It will ask for two integers from the user.\n",
    "\n",
    "First it will decide which one of them is small and which one is large.\n",
    "\n",
    "Then it will print the numbers starting from the large one up to the small one. (backwards)\n",
    "\n",
    "**Hints:** \n",
    "* Solve with Recursion.\n",
    "* There may be a second function as **print_down** for Recursion.\n",
    "\n",
    "<pre>\n",
    "Expected Output:\n",
    "First Number:  26\n",
    "Second Number:  12\n",
    "small: 12\n",
    "large: 26\n",
    "26\n",
    "25\n",
    "24\n",
    "23\n",
    "22\n",
    "21\n",
    "20\n",
    "19\n",
    "18\n",
    "17\n",
    "16\n",
    "15\n",
    "14\n",
    "13\n",
    "12\n",
    "</pre>"
   ]
  },
  {
   "cell_type": "code",
   "execution_count": 12,
   "id": "toxic-branch",
   "metadata": {},
   "outputs": [],
   "source": [
    "# S 10:\n",
    "   \n",
    "def count_down():\n",
    "    num1 = int(input('First number:'))\n",
    "    num2 = int(input('Second number:'))\n",
    "    \n",
    "    small = 0\n",
    "    large = 0\n",
    "    if num1 <= num2:\n",
    "        small = num1\n",
    "        large = num2\n",
    "    else:\n",
    "        small = num2\n",
    "        large = num1\n",
    "        \n",
    "    print('small', small)\n",
    "    print('large', large)\n",
    "    print_down(small, large)\n",
    "    \n",
    "def print_down(end, Value):\n",
    "    if Value == end:\n",
    "        print(Value) \n",
    "        return\n",
    "    else:\n",
    "        print(Value)\n",
    "        print_down(end,Value -1)"
   ]
  },
  {
   "cell_type": "code",
   "execution_count": 13,
   "id": "aquatic-looking",
   "metadata": {},
   "outputs": [
    {
     "name": "stdout",
     "output_type": "stream",
     "text": [
      "First number:13\n",
      "Second number:26\n",
      "small 13\n",
      "large 26\n",
      "26\n",
      "25\n",
      "24\n",
      "23\n",
      "22\n",
      "21\n",
      "20\n",
      "19\n",
      "18\n",
      "17\n",
      "16\n",
      "15\n",
      "14\n",
      "13\n"
     ]
    }
   ],
   "source": [
    "count_down()"
   ]
  },
  {
   "cell_type": "code",
   "execution_count": null,
   "id": "another-emperor",
   "metadata": {},
   "outputs": [],
   "source": []
  }
 ],
 "metadata": {
  "kernelspec": {
   "display_name": "Python 3 (ipykernel)",
   "language": "python",
   "name": "python3"
  },
  "language_info": {
   "codemirror_mode": {
    "name": "ipython",
    "version": 3
   },
   "file_extension": ".py",
   "mimetype": "text/x-python",
   "name": "python",
   "nbconvert_exporter": "python",
   "pygments_lexer": "ipython3",
   "version": "3.10.9"
  }
 },
 "nbformat": 4,
 "nbformat_minor": 5
}
